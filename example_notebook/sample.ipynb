{
 "cells": [
  {
   "cell_type": "code",
   "execution_count": 1,
   "id": "7593cdbc-acef-422a-832a-6c5b08d05165",
   "metadata": {
    "tags": []
   },
   "outputs": [],
   "source": [
    "import sys\n",
    "import logging\n",
    "\n",
    "import pandas as pd\n",
    "from openai import OpenAI\n",
    "\n",
    "from data_analysis_agent import *\n",
    "\n",
    "\n",
    "logger = logging.getLogger()\n",
    "handler = logging.StreamHandler(sys.stdout)\n",
    "handler.setLevel(logging.INFO)\n",
    "logger.addHandler(handler)\n",
    "logger.setLevel(logging.INFO)\n",
    "\n",
    "\n",
    "client = OpenAI()\n",
    "\n",
    "datasources = {\n",
    "    \"売上明細\": pd.DataFrame({\n",
    "        \"タイムスタンプ\": pd.to_datetime([\"2024-08-01\", \"2024-08-01\", \"2024-08-02\"]),\n",
    "        \"売上\": [100, 200, 300],\n",
    "        \"数量\": [1, 5, 1],\n",
    "        \"商品ID\": [\"A001\", \"A002\", \"A003\"]\n",
    "    })\n",
    "}\n",
    "\n",
    "env = PandasEnvironment(datasources)"
   ]
  },
  {
   "cell_type": "code",
   "execution_count": 2,
   "id": "870721ce-09fd-4af0-979e-03972c224b15",
   "metadata": {
    "tags": []
   },
   "outputs": [],
   "source": [
    "execute(client, env, \"年度別・商品カテゴリ別の売上推移をまとめる\")"
   ]
  }
 ],
 "metadata": {
  "kernelspec": {
   "display_name": "Python 3 (ipykernel)",
   "language": "python",
   "name": "python3"
  },
  "language_info": {
   "codemirror_mode": {
    "name": "ipython",
    "version": 3
   },
   "file_extension": ".py",
   "mimetype": "text/x-python",
   "name": "python",
   "nbconvert_exporter": "python",
   "pygments_lexer": "ipython3",
   "version": "3.11.3"
  }
 },
 "nbformat": 4,
 "nbformat_minor": 5
}
